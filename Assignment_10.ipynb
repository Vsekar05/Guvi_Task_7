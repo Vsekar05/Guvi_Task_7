{
  "nbformat": 4,
  "nbformat_minor": 0,
  "metadata": {
    "colab": {
      "name": "Assignment_10.ipynb",
      "provenance": [],
      "collapsed_sections": []
    },
    "kernelspec": {
      "name": "python3",
      "display_name": "Python 3"
    },
    "language_info": {
      "name": "python"
    }
  },
  "cells": [
    {
      "cell_type": "code",
      "execution_count": 1,
      "metadata": {
        "id": "PvsEzynMSPfD"
      },
      "outputs": [],
      "source": [
        "import pandas as pd\n",
        "import numpy as np"
      ]
    },
    {
      "cell_type": "markdown",
      "source": [
        "# Train data "
      ],
      "metadata": {
        "id": "k5fztTIT860F"
      }
    },
    {
      "cell_type": "code",
      "source": [
        "train_data=pd.read_csv(\"https://raw.githubusercontent.com/Vsekar05/Datasets/main/trainKNN.txt\",sep=\",\",header=None,\n",
        "                       names=[\"oxide1\",\"oxide2\",\"oxide3\",\"oxide4\",\"oxide5\",\"oxide6\",\"oxide7\",\"oxide8\",\"oxide9\",\"oxide10\",\"oxide11\"])\n",
        "train_data"
      ],
      "metadata": {
        "colab": {
          "base_uri": "https://localhost:8080/",
          "height": 424
        },
        "id": "9XRJnpHy6vrP",
        "outputId": "2beb49a8-9121-454e-8ada-37b750f7f12e"
      },
      "execution_count": 7,
      "outputs": [
        {
          "output_type": "execute_result",
          "data": {
            "text/plain": [
              "     oxide1   oxide2  oxide3  oxide4  oxide5  oxide6  oxide7  oxide8  oxide9  \\\n",
              "0         1  1.52101   13.64    4.49    1.10   71.78    0.06    8.75    0.00   \n",
              "1         2  1.51761   13.89    3.60    1.36   72.73    0.48    7.83    0.00   \n",
              "2         3  1.51618   13.53    3.55    1.54   72.99    0.39    7.78    0.00   \n",
              "3         4  1.51766   13.21    3.69    1.29   72.61    0.57    8.22    0.00   \n",
              "4         5  1.51742   13.27    3.62    1.24   73.08    0.55    8.07    0.00   \n",
              "..      ...      ...     ...     ...     ...     ...     ...     ...     ...   \n",
              "191     207  1.51645   14.94    0.00    1.87   73.11    0.00    8.67    1.38   \n",
              "192     208  1.51831   14.39    0.00    1.82   72.86    1.41    6.47    2.88   \n",
              "193     209  1.51640   14.37    0.00    2.74   72.85    0.00    9.45    0.54   \n",
              "194     210  1.51623   14.14    0.00    2.88   72.61    0.08    9.18    1.06   \n",
              "195     211  1.51685   14.92    0.00    1.99   73.06    0.00    8.40    1.59   \n",
              "\n",
              "     oxide10  oxide11  \n",
              "0        0.0        1  \n",
              "1        0.0        1  \n",
              "2        0.0        1  \n",
              "3        0.0        1  \n",
              "4        0.0        1  \n",
              "..       ...      ...  \n",
              "191      0.0        7  \n",
              "192      0.0        7  \n",
              "193      0.0        7  \n",
              "194      0.0        7  \n",
              "195      0.0        7  \n",
              "\n",
              "[196 rows x 11 columns]"
            ],
            "text/html": [
              "\n",
              "  <div id=\"df-f13aa90d-94e7-4d0b-a6a0-1a74596736be\">\n",
              "    <div class=\"colab-df-container\">\n",
              "      <div>\n",
              "<style scoped>\n",
              "    .dataframe tbody tr th:only-of-type {\n",
              "        vertical-align: middle;\n",
              "    }\n",
              "\n",
              "    .dataframe tbody tr th {\n",
              "        vertical-align: top;\n",
              "    }\n",
              "\n",
              "    .dataframe thead th {\n",
              "        text-align: right;\n",
              "    }\n",
              "</style>\n",
              "<table border=\"1\" class=\"dataframe\">\n",
              "  <thead>\n",
              "    <tr style=\"text-align: right;\">\n",
              "      <th></th>\n",
              "      <th>oxide1</th>\n",
              "      <th>oxide2</th>\n",
              "      <th>oxide3</th>\n",
              "      <th>oxide4</th>\n",
              "      <th>oxide5</th>\n",
              "      <th>oxide6</th>\n",
              "      <th>oxide7</th>\n",
              "      <th>oxide8</th>\n",
              "      <th>oxide9</th>\n",
              "      <th>oxide10</th>\n",
              "      <th>oxide11</th>\n",
              "    </tr>\n",
              "  </thead>\n",
              "  <tbody>\n",
              "    <tr>\n",
              "      <th>0</th>\n",
              "      <td>1</td>\n",
              "      <td>1.52101</td>\n",
              "      <td>13.64</td>\n",
              "      <td>4.49</td>\n",
              "      <td>1.10</td>\n",
              "      <td>71.78</td>\n",
              "      <td>0.06</td>\n",
              "      <td>8.75</td>\n",
              "      <td>0.00</td>\n",
              "      <td>0.0</td>\n",
              "      <td>1</td>\n",
              "    </tr>\n",
              "    <tr>\n",
              "      <th>1</th>\n",
              "      <td>2</td>\n",
              "      <td>1.51761</td>\n",
              "      <td>13.89</td>\n",
              "      <td>3.60</td>\n",
              "      <td>1.36</td>\n",
              "      <td>72.73</td>\n",
              "      <td>0.48</td>\n",
              "      <td>7.83</td>\n",
              "      <td>0.00</td>\n",
              "      <td>0.0</td>\n",
              "      <td>1</td>\n",
              "    </tr>\n",
              "    <tr>\n",
              "      <th>2</th>\n",
              "      <td>3</td>\n",
              "      <td>1.51618</td>\n",
              "      <td>13.53</td>\n",
              "      <td>3.55</td>\n",
              "      <td>1.54</td>\n",
              "      <td>72.99</td>\n",
              "      <td>0.39</td>\n",
              "      <td>7.78</td>\n",
              "      <td>0.00</td>\n",
              "      <td>0.0</td>\n",
              "      <td>1</td>\n",
              "    </tr>\n",
              "    <tr>\n",
              "      <th>3</th>\n",
              "      <td>4</td>\n",
              "      <td>1.51766</td>\n",
              "      <td>13.21</td>\n",
              "      <td>3.69</td>\n",
              "      <td>1.29</td>\n",
              "      <td>72.61</td>\n",
              "      <td>0.57</td>\n",
              "      <td>8.22</td>\n",
              "      <td>0.00</td>\n",
              "      <td>0.0</td>\n",
              "      <td>1</td>\n",
              "    </tr>\n",
              "    <tr>\n",
              "      <th>4</th>\n",
              "      <td>5</td>\n",
              "      <td>1.51742</td>\n",
              "      <td>13.27</td>\n",
              "      <td>3.62</td>\n",
              "      <td>1.24</td>\n",
              "      <td>73.08</td>\n",
              "      <td>0.55</td>\n",
              "      <td>8.07</td>\n",
              "      <td>0.00</td>\n",
              "      <td>0.0</td>\n",
              "      <td>1</td>\n",
              "    </tr>\n",
              "    <tr>\n",
              "      <th>...</th>\n",
              "      <td>...</td>\n",
              "      <td>...</td>\n",
              "      <td>...</td>\n",
              "      <td>...</td>\n",
              "      <td>...</td>\n",
              "      <td>...</td>\n",
              "      <td>...</td>\n",
              "      <td>...</td>\n",
              "      <td>...</td>\n",
              "      <td>...</td>\n",
              "      <td>...</td>\n",
              "    </tr>\n",
              "    <tr>\n",
              "      <th>191</th>\n",
              "      <td>207</td>\n",
              "      <td>1.51645</td>\n",
              "      <td>14.94</td>\n",
              "      <td>0.00</td>\n",
              "      <td>1.87</td>\n",
              "      <td>73.11</td>\n",
              "      <td>0.00</td>\n",
              "      <td>8.67</td>\n",
              "      <td>1.38</td>\n",
              "      <td>0.0</td>\n",
              "      <td>7</td>\n",
              "    </tr>\n",
              "    <tr>\n",
              "      <th>192</th>\n",
              "      <td>208</td>\n",
              "      <td>1.51831</td>\n",
              "      <td>14.39</td>\n",
              "      <td>0.00</td>\n",
              "      <td>1.82</td>\n",
              "      <td>72.86</td>\n",
              "      <td>1.41</td>\n",
              "      <td>6.47</td>\n",
              "      <td>2.88</td>\n",
              "      <td>0.0</td>\n",
              "      <td>7</td>\n",
              "    </tr>\n",
              "    <tr>\n",
              "      <th>193</th>\n",
              "      <td>209</td>\n",
              "      <td>1.51640</td>\n",
              "      <td>14.37</td>\n",
              "      <td>0.00</td>\n",
              "      <td>2.74</td>\n",
              "      <td>72.85</td>\n",
              "      <td>0.00</td>\n",
              "      <td>9.45</td>\n",
              "      <td>0.54</td>\n",
              "      <td>0.0</td>\n",
              "      <td>7</td>\n",
              "    </tr>\n",
              "    <tr>\n",
              "      <th>194</th>\n",
              "      <td>210</td>\n",
              "      <td>1.51623</td>\n",
              "      <td>14.14</td>\n",
              "      <td>0.00</td>\n",
              "      <td>2.88</td>\n",
              "      <td>72.61</td>\n",
              "      <td>0.08</td>\n",
              "      <td>9.18</td>\n",
              "      <td>1.06</td>\n",
              "      <td>0.0</td>\n",
              "      <td>7</td>\n",
              "    </tr>\n",
              "    <tr>\n",
              "      <th>195</th>\n",
              "      <td>211</td>\n",
              "      <td>1.51685</td>\n",
              "      <td>14.92</td>\n",
              "      <td>0.00</td>\n",
              "      <td>1.99</td>\n",
              "      <td>73.06</td>\n",
              "      <td>0.00</td>\n",
              "      <td>8.40</td>\n",
              "      <td>1.59</td>\n",
              "      <td>0.0</td>\n",
              "      <td>7</td>\n",
              "    </tr>\n",
              "  </tbody>\n",
              "</table>\n",
              "<p>196 rows × 11 columns</p>\n",
              "</div>\n",
              "      <button class=\"colab-df-convert\" onclick=\"convertToInteractive('df-f13aa90d-94e7-4d0b-a6a0-1a74596736be')\"\n",
              "              title=\"Convert this dataframe to an interactive table.\"\n",
              "              style=\"display:none;\">\n",
              "        \n",
              "  <svg xmlns=\"http://www.w3.org/2000/svg\" height=\"24px\"viewBox=\"0 0 24 24\"\n",
              "       width=\"24px\">\n",
              "    <path d=\"M0 0h24v24H0V0z\" fill=\"none\"/>\n",
              "    <path d=\"M18.56 5.44l.94 2.06.94-2.06 2.06-.94-2.06-.94-.94-2.06-.94 2.06-2.06.94zm-11 1L8.5 8.5l.94-2.06 2.06-.94-2.06-.94L8.5 2.5l-.94 2.06-2.06.94zm10 10l.94 2.06.94-2.06 2.06-.94-2.06-.94-.94-2.06-.94 2.06-2.06.94z\"/><path d=\"M17.41 7.96l-1.37-1.37c-.4-.4-.92-.59-1.43-.59-.52 0-1.04.2-1.43.59L10.3 9.45l-7.72 7.72c-.78.78-.78 2.05 0 2.83L4 21.41c.39.39.9.59 1.41.59.51 0 1.02-.2 1.41-.59l7.78-7.78 2.81-2.81c.8-.78.8-2.07 0-2.86zM5.41 20L4 18.59l7.72-7.72 1.47 1.35L5.41 20z\"/>\n",
              "  </svg>\n",
              "      </button>\n",
              "      \n",
              "  <style>\n",
              "    .colab-df-container {\n",
              "      display:flex;\n",
              "      flex-wrap:wrap;\n",
              "      gap: 12px;\n",
              "    }\n",
              "\n",
              "    .colab-df-convert {\n",
              "      background-color: #E8F0FE;\n",
              "      border: none;\n",
              "      border-radius: 50%;\n",
              "      cursor: pointer;\n",
              "      display: none;\n",
              "      fill: #1967D2;\n",
              "      height: 32px;\n",
              "      padding: 0 0 0 0;\n",
              "      width: 32px;\n",
              "    }\n",
              "\n",
              "    .colab-df-convert:hover {\n",
              "      background-color: #E2EBFA;\n",
              "      box-shadow: 0px 1px 2px rgba(60, 64, 67, 0.3), 0px 1px 3px 1px rgba(60, 64, 67, 0.15);\n",
              "      fill: #174EA6;\n",
              "    }\n",
              "\n",
              "    [theme=dark] .colab-df-convert {\n",
              "      background-color: #3B4455;\n",
              "      fill: #D2E3FC;\n",
              "    }\n",
              "\n",
              "    [theme=dark] .colab-df-convert:hover {\n",
              "      background-color: #434B5C;\n",
              "      box-shadow: 0px 1px 3px 1px rgba(0, 0, 0, 0.15);\n",
              "      filter: drop-shadow(0px 1px 2px rgba(0, 0, 0, 0.3));\n",
              "      fill: #FFFFFF;\n",
              "    }\n",
              "  </style>\n",
              "\n",
              "      <script>\n",
              "        const buttonEl =\n",
              "          document.querySelector('#df-f13aa90d-94e7-4d0b-a6a0-1a74596736be button.colab-df-convert');\n",
              "        buttonEl.style.display =\n",
              "          google.colab.kernel.accessAllowed ? 'block' : 'none';\n",
              "\n",
              "        async function convertToInteractive(key) {\n",
              "          const element = document.querySelector('#df-f13aa90d-94e7-4d0b-a6a0-1a74596736be');\n",
              "          const dataTable =\n",
              "            await google.colab.kernel.invokeFunction('convertToInteractive',\n",
              "                                                     [key], {});\n",
              "          if (!dataTable) return;\n",
              "\n",
              "          const docLinkHtml = 'Like what you see? Visit the ' +\n",
              "            '<a target=\"_blank\" href=https://colab.research.google.com/notebooks/data_table.ipynb>data table notebook</a>'\n",
              "            + ' to learn more about interactive tables.';\n",
              "          element.innerHTML = '';\n",
              "          dataTable['output_type'] = 'display_data';\n",
              "          await google.colab.output.renderOutput(dataTable, element);\n",
              "          const docLink = document.createElement('div');\n",
              "          docLink.innerHTML = docLinkHtml;\n",
              "          element.appendChild(docLink);\n",
              "        }\n",
              "      </script>\n",
              "    </div>\n",
              "  </div>\n",
              "  "
            ]
          },
          "metadata": {},
          "execution_count": 7
        }
      ]
    },
    {
      "cell_type": "code",
      "source": [
        "train_data.info()"
      ],
      "metadata": {
        "colab": {
          "base_uri": "https://localhost:8080/"
        },
        "id": "MchnE9cw80Q3",
        "outputId": "2e54503c-8f03-46a1-b9cd-57f4485509ab"
      },
      "execution_count": 8,
      "outputs": [
        {
          "output_type": "stream",
          "name": "stdout",
          "text": [
            "<class 'pandas.core.frame.DataFrame'>\n",
            "RangeIndex: 196 entries, 0 to 195\n",
            "Data columns (total 11 columns):\n",
            " #   Column   Non-Null Count  Dtype  \n",
            "---  ------   --------------  -----  \n",
            " 0   oxide1   196 non-null    int64  \n",
            " 1   oxide2   196 non-null    float64\n",
            " 2   oxide3   196 non-null    float64\n",
            " 3   oxide4   196 non-null    float64\n",
            " 4   oxide5   196 non-null    float64\n",
            " 5   oxide6   196 non-null    float64\n",
            " 6   oxide7   196 non-null    float64\n",
            " 7   oxide8   196 non-null    float64\n",
            " 8   oxide9   196 non-null    float64\n",
            " 9   oxide10  196 non-null    float64\n",
            " 10  oxide11  196 non-null    int64  \n",
            "dtypes: float64(9), int64(2)\n",
            "memory usage: 17.0 KB\n"
          ]
        }
      ]
    },
    {
      "cell_type": "code",
      "source": [
        "train_data.isna().sum()"
      ],
      "metadata": {
        "colab": {
          "base_uri": "https://localhost:8080/"
        },
        "id": "RjID8Grs85Xm",
        "outputId": "74274d53-0d85-426f-ccbe-6a0e81e73860"
      },
      "execution_count": 9,
      "outputs": [
        {
          "output_type": "execute_result",
          "data": {
            "text/plain": [
              "oxide1     0\n",
              "oxide2     0\n",
              "oxide3     0\n",
              "oxide4     0\n",
              "oxide5     0\n",
              "oxide6     0\n",
              "oxide7     0\n",
              "oxide8     0\n",
              "oxide9     0\n",
              "oxide10    0\n",
              "oxide11    0\n",
              "dtype: int64"
            ]
          },
          "metadata": {},
          "execution_count": 9
        }
      ]
    },
    {
      "cell_type": "code",
      "source": [
        "train_data.isnull().sum()"
      ],
      "metadata": {
        "colab": {
          "base_uri": "https://localhost:8080/"
        },
        "id": "zlVDI4XJ9Q6Z",
        "outputId": "f63cd848-317c-4f64-d4f3-bb5d6155b0e3"
      },
      "execution_count": 10,
      "outputs": [
        {
          "output_type": "execute_result",
          "data": {
            "text/plain": [
              "oxide1     0\n",
              "oxide2     0\n",
              "oxide3     0\n",
              "oxide4     0\n",
              "oxide5     0\n",
              "oxide6     0\n",
              "oxide7     0\n",
              "oxide8     0\n",
              "oxide9     0\n",
              "oxide10    0\n",
              "oxide11    0\n",
              "dtype: int64"
            ]
          },
          "metadata": {},
          "execution_count": 10
        }
      ]
    },
    {
      "cell_type": "code",
      "source": [
        "train_data.describe()"
      ],
      "metadata": {
        "colab": {
          "base_uri": "https://localhost:8080/",
          "height": 364
        },
        "id": "J9A0hiwo9U7W",
        "outputId": "966539c3-8d01-4fb8-b6c4-374bd40876c1"
      },
      "execution_count": 11,
      "outputs": [
        {
          "output_type": "execute_result",
          "data": {
            "text/plain": [
              "           oxide1      oxide2      oxide3      oxide4      oxide5      oxide6  \\\n",
              "count  196.000000  196.000000  196.000000  196.000000  196.000000  196.000000   \n",
              "mean   102.862245    1.518295   13.375204    2.758980    1.454337   72.635408   \n",
              "std     61.195663    0.003055    0.783145    1.392641    0.491688    0.763578   \n",
              "min      1.000000    1.511310   10.730000    0.000000    0.290000   69.810000   \n",
              "25%     49.750000    1.516458   12.877500    2.362500    1.190000   72.317500   \n",
              "50%    101.500000    1.517630   13.280000    3.480000    1.360000   72.810000   \n",
              "75%    153.250000    1.518985   13.792500    3.610000    1.622500   73.080000   \n",
              "max    211.000000    1.533930   15.790000    4.490000    3.500000   75.180000   \n",
              "\n",
              "           oxide7      oxide8      oxide9     oxide10     oxide11  \n",
              "count  196.000000  196.000000  196.000000  196.000000  196.000000  \n",
              "mean     0.519388    8.910714    0.164235    0.050255    2.668367  \n",
              "std      0.672703    1.421490    0.485198    0.086359    2.062416  \n",
              "min      0.000000    5.430000    0.000000    0.000000    1.000000  \n",
              "25%      0.140000    8.220000    0.000000    0.000000    1.000000  \n",
              "50%      0.560000    8.575000    0.000000    0.000000    2.000000  \n",
              "75%      0.610000    9.092500    0.000000    0.090000    3.000000  \n",
              "max      6.210000   16.190000    3.150000    0.340000    7.000000  "
            ],
            "text/html": [
              "\n",
              "  <div id=\"df-2d04f792-d2f0-4fd6-a974-d32ce3b1a001\">\n",
              "    <div class=\"colab-df-container\">\n",
              "      <div>\n",
              "<style scoped>\n",
              "    .dataframe tbody tr th:only-of-type {\n",
              "        vertical-align: middle;\n",
              "    }\n",
              "\n",
              "    .dataframe tbody tr th {\n",
              "        vertical-align: top;\n",
              "    }\n",
              "\n",
              "    .dataframe thead th {\n",
              "        text-align: right;\n",
              "    }\n",
              "</style>\n",
              "<table border=\"1\" class=\"dataframe\">\n",
              "  <thead>\n",
              "    <tr style=\"text-align: right;\">\n",
              "      <th></th>\n",
              "      <th>oxide1</th>\n",
              "      <th>oxide2</th>\n",
              "      <th>oxide3</th>\n",
              "      <th>oxide4</th>\n",
              "      <th>oxide5</th>\n",
              "      <th>oxide6</th>\n",
              "      <th>oxide7</th>\n",
              "      <th>oxide8</th>\n",
              "      <th>oxide9</th>\n",
              "      <th>oxide10</th>\n",
              "      <th>oxide11</th>\n",
              "    </tr>\n",
              "  </thead>\n",
              "  <tbody>\n",
              "    <tr>\n",
              "      <th>count</th>\n",
              "      <td>196.000000</td>\n",
              "      <td>196.000000</td>\n",
              "      <td>196.000000</td>\n",
              "      <td>196.000000</td>\n",
              "      <td>196.000000</td>\n",
              "      <td>196.000000</td>\n",
              "      <td>196.000000</td>\n",
              "      <td>196.000000</td>\n",
              "      <td>196.000000</td>\n",
              "      <td>196.000000</td>\n",
              "      <td>196.000000</td>\n",
              "    </tr>\n",
              "    <tr>\n",
              "      <th>mean</th>\n",
              "      <td>102.862245</td>\n",
              "      <td>1.518295</td>\n",
              "      <td>13.375204</td>\n",
              "      <td>2.758980</td>\n",
              "      <td>1.454337</td>\n",
              "      <td>72.635408</td>\n",
              "      <td>0.519388</td>\n",
              "      <td>8.910714</td>\n",
              "      <td>0.164235</td>\n",
              "      <td>0.050255</td>\n",
              "      <td>2.668367</td>\n",
              "    </tr>\n",
              "    <tr>\n",
              "      <th>std</th>\n",
              "      <td>61.195663</td>\n",
              "      <td>0.003055</td>\n",
              "      <td>0.783145</td>\n",
              "      <td>1.392641</td>\n",
              "      <td>0.491688</td>\n",
              "      <td>0.763578</td>\n",
              "      <td>0.672703</td>\n",
              "      <td>1.421490</td>\n",
              "      <td>0.485198</td>\n",
              "      <td>0.086359</td>\n",
              "      <td>2.062416</td>\n",
              "    </tr>\n",
              "    <tr>\n",
              "      <th>min</th>\n",
              "      <td>1.000000</td>\n",
              "      <td>1.511310</td>\n",
              "      <td>10.730000</td>\n",
              "      <td>0.000000</td>\n",
              "      <td>0.290000</td>\n",
              "      <td>69.810000</td>\n",
              "      <td>0.000000</td>\n",
              "      <td>5.430000</td>\n",
              "      <td>0.000000</td>\n",
              "      <td>0.000000</td>\n",
              "      <td>1.000000</td>\n",
              "    </tr>\n",
              "    <tr>\n",
              "      <th>25%</th>\n",
              "      <td>49.750000</td>\n",
              "      <td>1.516458</td>\n",
              "      <td>12.877500</td>\n",
              "      <td>2.362500</td>\n",
              "      <td>1.190000</td>\n",
              "      <td>72.317500</td>\n",
              "      <td>0.140000</td>\n",
              "      <td>8.220000</td>\n",
              "      <td>0.000000</td>\n",
              "      <td>0.000000</td>\n",
              "      <td>1.000000</td>\n",
              "    </tr>\n",
              "    <tr>\n",
              "      <th>50%</th>\n",
              "      <td>101.500000</td>\n",
              "      <td>1.517630</td>\n",
              "      <td>13.280000</td>\n",
              "      <td>3.480000</td>\n",
              "      <td>1.360000</td>\n",
              "      <td>72.810000</td>\n",
              "      <td>0.560000</td>\n",
              "      <td>8.575000</td>\n",
              "      <td>0.000000</td>\n",
              "      <td>0.000000</td>\n",
              "      <td>2.000000</td>\n",
              "    </tr>\n",
              "    <tr>\n",
              "      <th>75%</th>\n",
              "      <td>153.250000</td>\n",
              "      <td>1.518985</td>\n",
              "      <td>13.792500</td>\n",
              "      <td>3.610000</td>\n",
              "      <td>1.622500</td>\n",
              "      <td>73.080000</td>\n",
              "      <td>0.610000</td>\n",
              "      <td>9.092500</td>\n",
              "      <td>0.000000</td>\n",
              "      <td>0.090000</td>\n",
              "      <td>3.000000</td>\n",
              "    </tr>\n",
              "    <tr>\n",
              "      <th>max</th>\n",
              "      <td>211.000000</td>\n",
              "      <td>1.533930</td>\n",
              "      <td>15.790000</td>\n",
              "      <td>4.490000</td>\n",
              "      <td>3.500000</td>\n",
              "      <td>75.180000</td>\n",
              "      <td>6.210000</td>\n",
              "      <td>16.190000</td>\n",
              "      <td>3.150000</td>\n",
              "      <td>0.340000</td>\n",
              "      <td>7.000000</td>\n",
              "    </tr>\n",
              "  </tbody>\n",
              "</table>\n",
              "</div>\n",
              "      <button class=\"colab-df-convert\" onclick=\"convertToInteractive('df-2d04f792-d2f0-4fd6-a974-d32ce3b1a001')\"\n",
              "              title=\"Convert this dataframe to an interactive table.\"\n",
              "              style=\"display:none;\">\n",
              "        \n",
              "  <svg xmlns=\"http://www.w3.org/2000/svg\" height=\"24px\"viewBox=\"0 0 24 24\"\n",
              "       width=\"24px\">\n",
              "    <path d=\"M0 0h24v24H0V0z\" fill=\"none\"/>\n",
              "    <path d=\"M18.56 5.44l.94 2.06.94-2.06 2.06-.94-2.06-.94-.94-2.06-.94 2.06-2.06.94zm-11 1L8.5 8.5l.94-2.06 2.06-.94-2.06-.94L8.5 2.5l-.94 2.06-2.06.94zm10 10l.94 2.06.94-2.06 2.06-.94-2.06-.94-.94-2.06-.94 2.06-2.06.94z\"/><path d=\"M17.41 7.96l-1.37-1.37c-.4-.4-.92-.59-1.43-.59-.52 0-1.04.2-1.43.59L10.3 9.45l-7.72 7.72c-.78.78-.78 2.05 0 2.83L4 21.41c.39.39.9.59 1.41.59.51 0 1.02-.2 1.41-.59l7.78-7.78 2.81-2.81c.8-.78.8-2.07 0-2.86zM5.41 20L4 18.59l7.72-7.72 1.47 1.35L5.41 20z\"/>\n",
              "  </svg>\n",
              "      </button>\n",
              "      \n",
              "  <style>\n",
              "    .colab-df-container {\n",
              "      display:flex;\n",
              "      flex-wrap:wrap;\n",
              "      gap: 12px;\n",
              "    }\n",
              "\n",
              "    .colab-df-convert {\n",
              "      background-color: #E8F0FE;\n",
              "      border: none;\n",
              "      border-radius: 50%;\n",
              "      cursor: pointer;\n",
              "      display: none;\n",
              "      fill: #1967D2;\n",
              "      height: 32px;\n",
              "      padding: 0 0 0 0;\n",
              "      width: 32px;\n",
              "    }\n",
              "\n",
              "    .colab-df-convert:hover {\n",
              "      background-color: #E2EBFA;\n",
              "      box-shadow: 0px 1px 2px rgba(60, 64, 67, 0.3), 0px 1px 3px 1px rgba(60, 64, 67, 0.15);\n",
              "      fill: #174EA6;\n",
              "    }\n",
              "\n",
              "    [theme=dark] .colab-df-convert {\n",
              "      background-color: #3B4455;\n",
              "      fill: #D2E3FC;\n",
              "    }\n",
              "\n",
              "    [theme=dark] .colab-df-convert:hover {\n",
              "      background-color: #434B5C;\n",
              "      box-shadow: 0px 1px 3px 1px rgba(0, 0, 0, 0.15);\n",
              "      filter: drop-shadow(0px 1px 2px rgba(0, 0, 0, 0.3));\n",
              "      fill: #FFFFFF;\n",
              "    }\n",
              "  </style>\n",
              "\n",
              "      <script>\n",
              "        const buttonEl =\n",
              "          document.querySelector('#df-2d04f792-d2f0-4fd6-a974-d32ce3b1a001 button.colab-df-convert');\n",
              "        buttonEl.style.display =\n",
              "          google.colab.kernel.accessAllowed ? 'block' : 'none';\n",
              "\n",
              "        async function convertToInteractive(key) {\n",
              "          const element = document.querySelector('#df-2d04f792-d2f0-4fd6-a974-d32ce3b1a001');\n",
              "          const dataTable =\n",
              "            await google.colab.kernel.invokeFunction('convertToInteractive',\n",
              "                                                     [key], {});\n",
              "          if (!dataTable) return;\n",
              "\n",
              "          const docLinkHtml = 'Like what you see? Visit the ' +\n",
              "            '<a target=\"_blank\" href=https://colab.research.google.com/notebooks/data_table.ipynb>data table notebook</a>'\n",
              "            + ' to learn more about interactive tables.';\n",
              "          element.innerHTML = '';\n",
              "          dataTable['output_type'] = 'display_data';\n",
              "          await google.colab.output.renderOutput(dataTable, element);\n",
              "          const docLink = document.createElement('div');\n",
              "          docLink.innerHTML = docLinkHtml;\n",
              "          element.appendChild(docLink);\n",
              "        }\n",
              "      </script>\n",
              "    </div>\n",
              "  </div>\n",
              "  "
            ]
          },
          "metadata": {},
          "execution_count": 11
        }
      ]
    },
    {
      "cell_type": "markdown",
      "source": [
        "# Test data"
      ],
      "metadata": {
        "id": "XWbTNObC9hMt"
      }
    },
    {
      "cell_type": "code",
      "source": [
        "test_data=pd.read_csv(\"https://raw.githubusercontent.com/Vsekar05/Datasets/main/testKNN.txt\",sep=\",\",header=None,\n",
        "                       names=[\"oxide1\",\"oxide2\",\"oxide3\",\"oxide4\",\"oxide5\",\"oxide6\",\"oxide7\",\"oxide8\",\"oxide9\",\"oxide10\",\"oxide11\"])\n",
        "test_data"
      ],
      "metadata": {
        "colab": {
          "base_uri": "https://localhost:8080/",
          "height": 614
        },
        "id": "lFmHHbcK9eg1",
        "outputId": "d15e227d-3e26-4371-9f53-ed365bc3e236"
      },
      "execution_count": 12,
      "outputs": [
        {
          "output_type": "execute_result",
          "data": {
            "text/plain": [
              "    oxide1   oxide2  oxide3  oxide4  oxide5  oxide6  oxide7  oxide8  oxide9  \\\n",
              "0       68  1.52152   13.05    3.65    0.87   72.32    0.19    9.85    0.00   \n",
              "1       69  1.52152   13.12    3.58    0.90   72.20    0.23    9.82    0.00   \n",
              "2       70  1.52300   13.31    3.58    0.82   71.99    0.12   10.17    0.00   \n",
              "3      144  1.51709   13.00    3.47    1.79   72.72    0.66    8.18    0.00   \n",
              "4      145  1.51660   12.99    3.18    1.23   72.97    0.58    8.81    0.00   \n",
              "5      146  1.51839   12.85    3.67    1.24   72.57    0.62    8.68    0.00   \n",
              "6      161  1.51832   13.33    3.34    1.54   72.14    0.56    8.99    0.00   \n",
              "7      162  1.51934   13.64    3.54    0.75   72.65    0.16    8.89    0.15   \n",
              "8      163  1.52211   14.19    3.78    0.91   71.36    0.23    9.14    0.00   \n",
              "9      174  1.52043   13.38    0.00    1.40   72.25    0.33   12.50    0.00   \n",
              "10     175  1.52058   12.85    1.61    2.17   72.18    0.76    9.70    0.24   \n",
              "11     176  1.52119   12.97    0.33    1.51   73.39    0.13   11.27    0.00   \n",
              "12     183  1.51916   14.15    0.00    2.09   72.74    0.00   10.88    0.00   \n",
              "13     184  1.51969   14.56    0.00    0.56   73.48    0.00   11.22    0.00   \n",
              "14     185  1.51115   17.38    0.00    0.34   75.41    0.00    6.65    0.00   \n",
              "15     212  1.52065   14.36    0.00    2.02   73.42    0.00    8.44    1.64   \n",
              "16     213  1.51651   14.38    0.00    1.94   73.61    0.00    8.48    1.57   \n",
              "17     214  1.51711   14.23    0.00    2.08   73.36    0.00    8.62    1.67   \n",
              "\n",
              "    oxide10  oxide11  \n",
              "0      0.17        1  \n",
              "1      0.16        1  \n",
              "2      0.03        1  \n",
              "3      0.00        2  \n",
              "4      0.24        2  \n",
              "5      0.35        2  \n",
              "6      0.00        3  \n",
              "7      0.24        3  \n",
              "8      0.37        3  \n",
              "9      0.00        5  \n",
              "10     0.51        5  \n",
              "11     0.28        5  \n",
              "12     0.00        6  \n",
              "13     0.00        6  \n",
              "14     0.00        6  \n",
              "15     0.00        7  \n",
              "16     0.00        7  \n",
              "17     0.00        7  "
            ],
            "text/html": [
              "\n",
              "  <div id=\"df-923101ad-9b5d-4034-ad6b-0ed9ed6792f6\">\n",
              "    <div class=\"colab-df-container\">\n",
              "      <div>\n",
              "<style scoped>\n",
              "    .dataframe tbody tr th:only-of-type {\n",
              "        vertical-align: middle;\n",
              "    }\n",
              "\n",
              "    .dataframe tbody tr th {\n",
              "        vertical-align: top;\n",
              "    }\n",
              "\n",
              "    .dataframe thead th {\n",
              "        text-align: right;\n",
              "    }\n",
              "</style>\n",
              "<table border=\"1\" class=\"dataframe\">\n",
              "  <thead>\n",
              "    <tr style=\"text-align: right;\">\n",
              "      <th></th>\n",
              "      <th>oxide1</th>\n",
              "      <th>oxide2</th>\n",
              "      <th>oxide3</th>\n",
              "      <th>oxide4</th>\n",
              "      <th>oxide5</th>\n",
              "      <th>oxide6</th>\n",
              "      <th>oxide7</th>\n",
              "      <th>oxide8</th>\n",
              "      <th>oxide9</th>\n",
              "      <th>oxide10</th>\n",
              "      <th>oxide11</th>\n",
              "    </tr>\n",
              "  </thead>\n",
              "  <tbody>\n",
              "    <tr>\n",
              "      <th>0</th>\n",
              "      <td>68</td>\n",
              "      <td>1.52152</td>\n",
              "      <td>13.05</td>\n",
              "      <td>3.65</td>\n",
              "      <td>0.87</td>\n",
              "      <td>72.32</td>\n",
              "      <td>0.19</td>\n",
              "      <td>9.85</td>\n",
              "      <td>0.00</td>\n",
              "      <td>0.17</td>\n",
              "      <td>1</td>\n",
              "    </tr>\n",
              "    <tr>\n",
              "      <th>1</th>\n",
              "      <td>69</td>\n",
              "      <td>1.52152</td>\n",
              "      <td>13.12</td>\n",
              "      <td>3.58</td>\n",
              "      <td>0.90</td>\n",
              "      <td>72.20</td>\n",
              "      <td>0.23</td>\n",
              "      <td>9.82</td>\n",
              "      <td>0.00</td>\n",
              "      <td>0.16</td>\n",
              "      <td>1</td>\n",
              "    </tr>\n",
              "    <tr>\n",
              "      <th>2</th>\n",
              "      <td>70</td>\n",
              "      <td>1.52300</td>\n",
              "      <td>13.31</td>\n",
              "      <td>3.58</td>\n",
              "      <td>0.82</td>\n",
              "      <td>71.99</td>\n",
              "      <td>0.12</td>\n",
              "      <td>10.17</td>\n",
              "      <td>0.00</td>\n",
              "      <td>0.03</td>\n",
              "      <td>1</td>\n",
              "    </tr>\n",
              "    <tr>\n",
              "      <th>3</th>\n",
              "      <td>144</td>\n",
              "      <td>1.51709</td>\n",
              "      <td>13.00</td>\n",
              "      <td>3.47</td>\n",
              "      <td>1.79</td>\n",
              "      <td>72.72</td>\n",
              "      <td>0.66</td>\n",
              "      <td>8.18</td>\n",
              "      <td>0.00</td>\n",
              "      <td>0.00</td>\n",
              "      <td>2</td>\n",
              "    </tr>\n",
              "    <tr>\n",
              "      <th>4</th>\n",
              "      <td>145</td>\n",
              "      <td>1.51660</td>\n",
              "      <td>12.99</td>\n",
              "      <td>3.18</td>\n",
              "      <td>1.23</td>\n",
              "      <td>72.97</td>\n",
              "      <td>0.58</td>\n",
              "      <td>8.81</td>\n",
              "      <td>0.00</td>\n",
              "      <td>0.24</td>\n",
              "      <td>2</td>\n",
              "    </tr>\n",
              "    <tr>\n",
              "      <th>5</th>\n",
              "      <td>146</td>\n",
              "      <td>1.51839</td>\n",
              "      <td>12.85</td>\n",
              "      <td>3.67</td>\n",
              "      <td>1.24</td>\n",
              "      <td>72.57</td>\n",
              "      <td>0.62</td>\n",
              "      <td>8.68</td>\n",
              "      <td>0.00</td>\n",
              "      <td>0.35</td>\n",
              "      <td>2</td>\n",
              "    </tr>\n",
              "    <tr>\n",
              "      <th>6</th>\n",
              "      <td>161</td>\n",
              "      <td>1.51832</td>\n",
              "      <td>13.33</td>\n",
              "      <td>3.34</td>\n",
              "      <td>1.54</td>\n",
              "      <td>72.14</td>\n",
              "      <td>0.56</td>\n",
              "      <td>8.99</td>\n",
              "      <td>0.00</td>\n",
              "      <td>0.00</td>\n",
              "      <td>3</td>\n",
              "    </tr>\n",
              "    <tr>\n",
              "      <th>7</th>\n",
              "      <td>162</td>\n",
              "      <td>1.51934</td>\n",
              "      <td>13.64</td>\n",
              "      <td>3.54</td>\n",
              "      <td>0.75</td>\n",
              "      <td>72.65</td>\n",
              "      <td>0.16</td>\n",
              "      <td>8.89</td>\n",
              "      <td>0.15</td>\n",
              "      <td>0.24</td>\n",
              "      <td>3</td>\n",
              "    </tr>\n",
              "    <tr>\n",
              "      <th>8</th>\n",
              "      <td>163</td>\n",
              "      <td>1.52211</td>\n",
              "      <td>14.19</td>\n",
              "      <td>3.78</td>\n",
              "      <td>0.91</td>\n",
              "      <td>71.36</td>\n",
              "      <td>0.23</td>\n",
              "      <td>9.14</td>\n",
              "      <td>0.00</td>\n",
              "      <td>0.37</td>\n",
              "      <td>3</td>\n",
              "    </tr>\n",
              "    <tr>\n",
              "      <th>9</th>\n",
              "      <td>174</td>\n",
              "      <td>1.52043</td>\n",
              "      <td>13.38</td>\n",
              "      <td>0.00</td>\n",
              "      <td>1.40</td>\n",
              "      <td>72.25</td>\n",
              "      <td>0.33</td>\n",
              "      <td>12.50</td>\n",
              "      <td>0.00</td>\n",
              "      <td>0.00</td>\n",
              "      <td>5</td>\n",
              "    </tr>\n",
              "    <tr>\n",
              "      <th>10</th>\n",
              "      <td>175</td>\n",
              "      <td>1.52058</td>\n",
              "      <td>12.85</td>\n",
              "      <td>1.61</td>\n",
              "      <td>2.17</td>\n",
              "      <td>72.18</td>\n",
              "      <td>0.76</td>\n",
              "      <td>9.70</td>\n",
              "      <td>0.24</td>\n",
              "      <td>0.51</td>\n",
              "      <td>5</td>\n",
              "    </tr>\n",
              "    <tr>\n",
              "      <th>11</th>\n",
              "      <td>176</td>\n",
              "      <td>1.52119</td>\n",
              "      <td>12.97</td>\n",
              "      <td>0.33</td>\n",
              "      <td>1.51</td>\n",
              "      <td>73.39</td>\n",
              "      <td>0.13</td>\n",
              "      <td>11.27</td>\n",
              "      <td>0.00</td>\n",
              "      <td>0.28</td>\n",
              "      <td>5</td>\n",
              "    </tr>\n",
              "    <tr>\n",
              "      <th>12</th>\n",
              "      <td>183</td>\n",
              "      <td>1.51916</td>\n",
              "      <td>14.15</td>\n",
              "      <td>0.00</td>\n",
              "      <td>2.09</td>\n",
              "      <td>72.74</td>\n",
              "      <td>0.00</td>\n",
              "      <td>10.88</td>\n",
              "      <td>0.00</td>\n",
              "      <td>0.00</td>\n",
              "      <td>6</td>\n",
              "    </tr>\n",
              "    <tr>\n",
              "      <th>13</th>\n",
              "      <td>184</td>\n",
              "      <td>1.51969</td>\n",
              "      <td>14.56</td>\n",
              "      <td>0.00</td>\n",
              "      <td>0.56</td>\n",
              "      <td>73.48</td>\n",
              "      <td>0.00</td>\n",
              "      <td>11.22</td>\n",
              "      <td>0.00</td>\n",
              "      <td>0.00</td>\n",
              "      <td>6</td>\n",
              "    </tr>\n",
              "    <tr>\n",
              "      <th>14</th>\n",
              "      <td>185</td>\n",
              "      <td>1.51115</td>\n",
              "      <td>17.38</td>\n",
              "      <td>0.00</td>\n",
              "      <td>0.34</td>\n",
              "      <td>75.41</td>\n",
              "      <td>0.00</td>\n",
              "      <td>6.65</td>\n",
              "      <td>0.00</td>\n",
              "      <td>0.00</td>\n",
              "      <td>6</td>\n",
              "    </tr>\n",
              "    <tr>\n",
              "      <th>15</th>\n",
              "      <td>212</td>\n",
              "      <td>1.52065</td>\n",
              "      <td>14.36</td>\n",
              "      <td>0.00</td>\n",
              "      <td>2.02</td>\n",
              "      <td>73.42</td>\n",
              "      <td>0.00</td>\n",
              "      <td>8.44</td>\n",
              "      <td>1.64</td>\n",
              "      <td>0.00</td>\n",
              "      <td>7</td>\n",
              "    </tr>\n",
              "    <tr>\n",
              "      <th>16</th>\n",
              "      <td>213</td>\n",
              "      <td>1.51651</td>\n",
              "      <td>14.38</td>\n",
              "      <td>0.00</td>\n",
              "      <td>1.94</td>\n",
              "      <td>73.61</td>\n",
              "      <td>0.00</td>\n",
              "      <td>8.48</td>\n",
              "      <td>1.57</td>\n",
              "      <td>0.00</td>\n",
              "      <td>7</td>\n",
              "    </tr>\n",
              "    <tr>\n",
              "      <th>17</th>\n",
              "      <td>214</td>\n",
              "      <td>1.51711</td>\n",
              "      <td>14.23</td>\n",
              "      <td>0.00</td>\n",
              "      <td>2.08</td>\n",
              "      <td>73.36</td>\n",
              "      <td>0.00</td>\n",
              "      <td>8.62</td>\n",
              "      <td>1.67</td>\n",
              "      <td>0.00</td>\n",
              "      <td>7</td>\n",
              "    </tr>\n",
              "  </tbody>\n",
              "</table>\n",
              "</div>\n",
              "      <button class=\"colab-df-convert\" onclick=\"convertToInteractive('df-923101ad-9b5d-4034-ad6b-0ed9ed6792f6')\"\n",
              "              title=\"Convert this dataframe to an interactive table.\"\n",
              "              style=\"display:none;\">\n",
              "        \n",
              "  <svg xmlns=\"http://www.w3.org/2000/svg\" height=\"24px\"viewBox=\"0 0 24 24\"\n",
              "       width=\"24px\">\n",
              "    <path d=\"M0 0h24v24H0V0z\" fill=\"none\"/>\n",
              "    <path d=\"M18.56 5.44l.94 2.06.94-2.06 2.06-.94-2.06-.94-.94-2.06-.94 2.06-2.06.94zm-11 1L8.5 8.5l.94-2.06 2.06-.94-2.06-.94L8.5 2.5l-.94 2.06-2.06.94zm10 10l.94 2.06.94-2.06 2.06-.94-2.06-.94-.94-2.06-.94 2.06-2.06.94z\"/><path d=\"M17.41 7.96l-1.37-1.37c-.4-.4-.92-.59-1.43-.59-.52 0-1.04.2-1.43.59L10.3 9.45l-7.72 7.72c-.78.78-.78 2.05 0 2.83L4 21.41c.39.39.9.59 1.41.59.51 0 1.02-.2 1.41-.59l7.78-7.78 2.81-2.81c.8-.78.8-2.07 0-2.86zM5.41 20L4 18.59l7.72-7.72 1.47 1.35L5.41 20z\"/>\n",
              "  </svg>\n",
              "      </button>\n",
              "      \n",
              "  <style>\n",
              "    .colab-df-container {\n",
              "      display:flex;\n",
              "      flex-wrap:wrap;\n",
              "      gap: 12px;\n",
              "    }\n",
              "\n",
              "    .colab-df-convert {\n",
              "      background-color: #E8F0FE;\n",
              "      border: none;\n",
              "      border-radius: 50%;\n",
              "      cursor: pointer;\n",
              "      display: none;\n",
              "      fill: #1967D2;\n",
              "      height: 32px;\n",
              "      padding: 0 0 0 0;\n",
              "      width: 32px;\n",
              "    }\n",
              "\n",
              "    .colab-df-convert:hover {\n",
              "      background-color: #E2EBFA;\n",
              "      box-shadow: 0px 1px 2px rgba(60, 64, 67, 0.3), 0px 1px 3px 1px rgba(60, 64, 67, 0.15);\n",
              "      fill: #174EA6;\n",
              "    }\n",
              "\n",
              "    [theme=dark] .colab-df-convert {\n",
              "      background-color: #3B4455;\n",
              "      fill: #D2E3FC;\n",
              "    }\n",
              "\n",
              "    [theme=dark] .colab-df-convert:hover {\n",
              "      background-color: #434B5C;\n",
              "      box-shadow: 0px 1px 3px 1px rgba(0, 0, 0, 0.15);\n",
              "      filter: drop-shadow(0px 1px 2px rgba(0, 0, 0, 0.3));\n",
              "      fill: #FFFFFF;\n",
              "    }\n",
              "  </style>\n",
              "\n",
              "      <script>\n",
              "        const buttonEl =\n",
              "          document.querySelector('#df-923101ad-9b5d-4034-ad6b-0ed9ed6792f6 button.colab-df-convert');\n",
              "        buttonEl.style.display =\n",
              "          google.colab.kernel.accessAllowed ? 'block' : 'none';\n",
              "\n",
              "        async function convertToInteractive(key) {\n",
              "          const element = document.querySelector('#df-923101ad-9b5d-4034-ad6b-0ed9ed6792f6');\n",
              "          const dataTable =\n",
              "            await google.colab.kernel.invokeFunction('convertToInteractive',\n",
              "                                                     [key], {});\n",
              "          if (!dataTable) return;\n",
              "\n",
              "          const docLinkHtml = 'Like what you see? Visit the ' +\n",
              "            '<a target=\"_blank\" href=https://colab.research.google.com/notebooks/data_table.ipynb>data table notebook</a>'\n",
              "            + ' to learn more about interactive tables.';\n",
              "          element.innerHTML = '';\n",
              "          dataTable['output_type'] = 'display_data';\n",
              "          await google.colab.output.renderOutput(dataTable, element);\n",
              "          const docLink = document.createElement('div');\n",
              "          docLink.innerHTML = docLinkHtml;\n",
              "          element.appendChild(docLink);\n",
              "        }\n",
              "      </script>\n",
              "    </div>\n",
              "  </div>\n",
              "  "
            ]
          },
          "metadata": {},
          "execution_count": 12
        }
      ]
    },
    {
      "cell_type": "code",
      "source": [
        "test_data.info()"
      ],
      "metadata": {
        "colab": {
          "base_uri": "https://localhost:8080/"
        },
        "id": "-u5YOqx8-AXd",
        "outputId": "b512ad83-c485-40f7-fd0d-843c9bae25bb"
      },
      "execution_count": 13,
      "outputs": [
        {
          "output_type": "stream",
          "name": "stdout",
          "text": [
            "<class 'pandas.core.frame.DataFrame'>\n",
            "RangeIndex: 18 entries, 0 to 17\n",
            "Data columns (total 11 columns):\n",
            " #   Column   Non-Null Count  Dtype  \n",
            "---  ------   --------------  -----  \n",
            " 0   oxide1   18 non-null     int64  \n",
            " 1   oxide2   18 non-null     float64\n",
            " 2   oxide3   18 non-null     float64\n",
            " 3   oxide4   18 non-null     float64\n",
            " 4   oxide5   18 non-null     float64\n",
            " 5   oxide6   18 non-null     float64\n",
            " 6   oxide7   18 non-null     float64\n",
            " 7   oxide8   18 non-null     float64\n",
            " 8   oxide9   18 non-null     float64\n",
            " 9   oxide10  18 non-null     float64\n",
            " 10  oxide11  18 non-null     int64  \n",
            "dtypes: float64(9), int64(2)\n",
            "memory usage: 1.7 KB\n"
          ]
        }
      ]
    },
    {
      "cell_type": "code",
      "source": [
        "test_data.isna().sum()"
      ],
      "metadata": {
        "colab": {
          "base_uri": "https://localhost:8080/"
        },
        "id": "Qz4oyZQt-DEk",
        "outputId": "4c9486c7-b18a-4a2d-9a41-e2e7f5369d1a"
      },
      "execution_count": 14,
      "outputs": [
        {
          "output_type": "execute_result",
          "data": {
            "text/plain": [
              "oxide1     0\n",
              "oxide2     0\n",
              "oxide3     0\n",
              "oxide4     0\n",
              "oxide5     0\n",
              "oxide6     0\n",
              "oxide7     0\n",
              "oxide8     0\n",
              "oxide9     0\n",
              "oxide10    0\n",
              "oxide11    0\n",
              "dtype: int64"
            ]
          },
          "metadata": {},
          "execution_count": 14
        }
      ]
    },
    {
      "cell_type": "code",
      "source": [
        "test_data.isnull().sum()"
      ],
      "metadata": {
        "colab": {
          "base_uri": "https://localhost:8080/"
        },
        "id": "ikjlZdY6-GVU",
        "outputId": "44f457ae-5029-41ee-a590-b7636eefddb1"
      },
      "execution_count": 15,
      "outputs": [
        {
          "output_type": "execute_result",
          "data": {
            "text/plain": [
              "oxide1     0\n",
              "oxide2     0\n",
              "oxide3     0\n",
              "oxide4     0\n",
              "oxide5     0\n",
              "oxide6     0\n",
              "oxide7     0\n",
              "oxide8     0\n",
              "oxide9     0\n",
              "oxide10    0\n",
              "oxide11    0\n",
              "dtype: int64"
            ]
          },
          "metadata": {},
          "execution_count": 15
        }
      ]
    },
    {
      "cell_type": "code",
      "source": [
        "test_data.describe()"
      ],
      "metadata": {
        "colab": {
          "base_uri": "https://localhost:8080/",
          "height": 344
        },
        "id": "Tr5ONLeU-J99",
        "outputId": "94a9a2d5-1eb1-4233-f5d1-99d720c4a74e"
      },
      "execution_count": 16,
      "outputs": [
        {
          "output_type": "execute_result",
          "data": {
            "text/plain": [
              "           oxide1     oxide2     oxide3     oxide4     oxide5     oxide6  \\\n",
              "count   18.000000  18.000000  18.000000  18.000000  18.000000  18.000000   \n",
              "mean   158.000000   1.519131  13.763333   1.873889   1.342222  72.820000   \n",
              "std     46.209243   0.002791   1.083491   1.749753   0.581312   0.892004   \n",
              "min     68.000000   1.511150  12.850000   0.000000   0.340000  71.360000   \n",
              "25%    145.250000   1.517412  13.012500   0.000000   0.877500  72.212500   \n",
              "50%    168.500000   1.519515  13.355000   2.395000   1.320000  72.685000   \n",
              "75%    183.750000   1.521055  14.220000   3.570000   1.902500  73.382500   \n",
              "max    214.000000   1.523000  17.380000   3.780000   2.170000  75.410000   \n",
              "\n",
              "          oxide7     oxide8     oxide9    oxide10    oxide11  \n",
              "count  18.000000  18.000000  18.000000  18.000000  18.000000  \n",
              "mean    0.253889   9.460556   0.292778   0.130556   4.000000  \n",
              "std     0.265133   1.380432   0.617422   0.164798   2.222876  \n",
              "min     0.000000   6.650000   0.000000   0.000000   1.000000  \n",
              "25%     0.000000   8.635000   0.000000   0.000000   2.000000  \n",
              "50%     0.175000   9.065000   0.000000   0.015000   4.000000  \n",
              "75%     0.502500  10.090000   0.112500   0.240000   6.000000  \n",
              "max     0.760000  12.500000   1.670000   0.510000   7.000000  "
            ],
            "text/html": [
              "\n",
              "  <div id=\"df-d43dae87-0590-4b67-a4bb-2a0139beee4c\">\n",
              "    <div class=\"colab-df-container\">\n",
              "      <div>\n",
              "<style scoped>\n",
              "    .dataframe tbody tr th:only-of-type {\n",
              "        vertical-align: middle;\n",
              "    }\n",
              "\n",
              "    .dataframe tbody tr th {\n",
              "        vertical-align: top;\n",
              "    }\n",
              "\n",
              "    .dataframe thead th {\n",
              "        text-align: right;\n",
              "    }\n",
              "</style>\n",
              "<table border=\"1\" class=\"dataframe\">\n",
              "  <thead>\n",
              "    <tr style=\"text-align: right;\">\n",
              "      <th></th>\n",
              "      <th>oxide1</th>\n",
              "      <th>oxide2</th>\n",
              "      <th>oxide3</th>\n",
              "      <th>oxide4</th>\n",
              "      <th>oxide5</th>\n",
              "      <th>oxide6</th>\n",
              "      <th>oxide7</th>\n",
              "      <th>oxide8</th>\n",
              "      <th>oxide9</th>\n",
              "      <th>oxide10</th>\n",
              "      <th>oxide11</th>\n",
              "    </tr>\n",
              "  </thead>\n",
              "  <tbody>\n",
              "    <tr>\n",
              "      <th>count</th>\n",
              "      <td>18.000000</td>\n",
              "      <td>18.000000</td>\n",
              "      <td>18.000000</td>\n",
              "      <td>18.000000</td>\n",
              "      <td>18.000000</td>\n",
              "      <td>18.000000</td>\n",
              "      <td>18.000000</td>\n",
              "      <td>18.000000</td>\n",
              "      <td>18.000000</td>\n",
              "      <td>18.000000</td>\n",
              "      <td>18.000000</td>\n",
              "    </tr>\n",
              "    <tr>\n",
              "      <th>mean</th>\n",
              "      <td>158.000000</td>\n",
              "      <td>1.519131</td>\n",
              "      <td>13.763333</td>\n",
              "      <td>1.873889</td>\n",
              "      <td>1.342222</td>\n",
              "      <td>72.820000</td>\n",
              "      <td>0.253889</td>\n",
              "      <td>9.460556</td>\n",
              "      <td>0.292778</td>\n",
              "      <td>0.130556</td>\n",
              "      <td>4.000000</td>\n",
              "    </tr>\n",
              "    <tr>\n",
              "      <th>std</th>\n",
              "      <td>46.209243</td>\n",
              "      <td>0.002791</td>\n",
              "      <td>1.083491</td>\n",
              "      <td>1.749753</td>\n",
              "      <td>0.581312</td>\n",
              "      <td>0.892004</td>\n",
              "      <td>0.265133</td>\n",
              "      <td>1.380432</td>\n",
              "      <td>0.617422</td>\n",
              "      <td>0.164798</td>\n",
              "      <td>2.222876</td>\n",
              "    </tr>\n",
              "    <tr>\n",
              "      <th>min</th>\n",
              "      <td>68.000000</td>\n",
              "      <td>1.511150</td>\n",
              "      <td>12.850000</td>\n",
              "      <td>0.000000</td>\n",
              "      <td>0.340000</td>\n",
              "      <td>71.360000</td>\n",
              "      <td>0.000000</td>\n",
              "      <td>6.650000</td>\n",
              "      <td>0.000000</td>\n",
              "      <td>0.000000</td>\n",
              "      <td>1.000000</td>\n",
              "    </tr>\n",
              "    <tr>\n",
              "      <th>25%</th>\n",
              "      <td>145.250000</td>\n",
              "      <td>1.517412</td>\n",
              "      <td>13.012500</td>\n",
              "      <td>0.000000</td>\n",
              "      <td>0.877500</td>\n",
              "      <td>72.212500</td>\n",
              "      <td>0.000000</td>\n",
              "      <td>8.635000</td>\n",
              "      <td>0.000000</td>\n",
              "      <td>0.000000</td>\n",
              "      <td>2.000000</td>\n",
              "    </tr>\n",
              "    <tr>\n",
              "      <th>50%</th>\n",
              "      <td>168.500000</td>\n",
              "      <td>1.519515</td>\n",
              "      <td>13.355000</td>\n",
              "      <td>2.395000</td>\n",
              "      <td>1.320000</td>\n",
              "      <td>72.685000</td>\n",
              "      <td>0.175000</td>\n",
              "      <td>9.065000</td>\n",
              "      <td>0.000000</td>\n",
              "      <td>0.015000</td>\n",
              "      <td>4.000000</td>\n",
              "    </tr>\n",
              "    <tr>\n",
              "      <th>75%</th>\n",
              "      <td>183.750000</td>\n",
              "      <td>1.521055</td>\n",
              "      <td>14.220000</td>\n",
              "      <td>3.570000</td>\n",
              "      <td>1.902500</td>\n",
              "      <td>73.382500</td>\n",
              "      <td>0.502500</td>\n",
              "      <td>10.090000</td>\n",
              "      <td>0.112500</td>\n",
              "      <td>0.240000</td>\n",
              "      <td>6.000000</td>\n",
              "    </tr>\n",
              "    <tr>\n",
              "      <th>max</th>\n",
              "      <td>214.000000</td>\n",
              "      <td>1.523000</td>\n",
              "      <td>17.380000</td>\n",
              "      <td>3.780000</td>\n",
              "      <td>2.170000</td>\n",
              "      <td>75.410000</td>\n",
              "      <td>0.760000</td>\n",
              "      <td>12.500000</td>\n",
              "      <td>1.670000</td>\n",
              "      <td>0.510000</td>\n",
              "      <td>7.000000</td>\n",
              "    </tr>\n",
              "  </tbody>\n",
              "</table>\n",
              "</div>\n",
              "      <button class=\"colab-df-convert\" onclick=\"convertToInteractive('df-d43dae87-0590-4b67-a4bb-2a0139beee4c')\"\n",
              "              title=\"Convert this dataframe to an interactive table.\"\n",
              "              style=\"display:none;\">\n",
              "        \n",
              "  <svg xmlns=\"http://www.w3.org/2000/svg\" height=\"24px\"viewBox=\"0 0 24 24\"\n",
              "       width=\"24px\">\n",
              "    <path d=\"M0 0h24v24H0V0z\" fill=\"none\"/>\n",
              "    <path d=\"M18.56 5.44l.94 2.06.94-2.06 2.06-.94-2.06-.94-.94-2.06-.94 2.06-2.06.94zm-11 1L8.5 8.5l.94-2.06 2.06-.94-2.06-.94L8.5 2.5l-.94 2.06-2.06.94zm10 10l.94 2.06.94-2.06 2.06-.94-2.06-.94-.94-2.06-.94 2.06-2.06.94z\"/><path d=\"M17.41 7.96l-1.37-1.37c-.4-.4-.92-.59-1.43-.59-.52 0-1.04.2-1.43.59L10.3 9.45l-7.72 7.72c-.78.78-.78 2.05 0 2.83L4 21.41c.39.39.9.59 1.41.59.51 0 1.02-.2 1.41-.59l7.78-7.78 2.81-2.81c.8-.78.8-2.07 0-2.86zM5.41 20L4 18.59l7.72-7.72 1.47 1.35L5.41 20z\"/>\n",
              "  </svg>\n",
              "      </button>\n",
              "      \n",
              "  <style>\n",
              "    .colab-df-container {\n",
              "      display:flex;\n",
              "      flex-wrap:wrap;\n",
              "      gap: 12px;\n",
              "    }\n",
              "\n",
              "    .colab-df-convert {\n",
              "      background-color: #E8F0FE;\n",
              "      border: none;\n",
              "      border-radius: 50%;\n",
              "      cursor: pointer;\n",
              "      display: none;\n",
              "      fill: #1967D2;\n",
              "      height: 32px;\n",
              "      padding: 0 0 0 0;\n",
              "      width: 32px;\n",
              "    }\n",
              "\n",
              "    .colab-df-convert:hover {\n",
              "      background-color: #E2EBFA;\n",
              "      box-shadow: 0px 1px 2px rgba(60, 64, 67, 0.3), 0px 1px 3px 1px rgba(60, 64, 67, 0.15);\n",
              "      fill: #174EA6;\n",
              "    }\n",
              "\n",
              "    [theme=dark] .colab-df-convert {\n",
              "      background-color: #3B4455;\n",
              "      fill: #D2E3FC;\n",
              "    }\n",
              "\n",
              "    [theme=dark] .colab-df-convert:hover {\n",
              "      background-color: #434B5C;\n",
              "      box-shadow: 0px 1px 3px 1px rgba(0, 0, 0, 0.15);\n",
              "      filter: drop-shadow(0px 1px 2px rgba(0, 0, 0, 0.3));\n",
              "      fill: #FFFFFF;\n",
              "    }\n",
              "  </style>\n",
              "\n",
              "      <script>\n",
              "        const buttonEl =\n",
              "          document.querySelector('#df-d43dae87-0590-4b67-a4bb-2a0139beee4c button.colab-df-convert');\n",
              "        buttonEl.style.display =\n",
              "          google.colab.kernel.accessAllowed ? 'block' : 'none';\n",
              "\n",
              "        async function convertToInteractive(key) {\n",
              "          const element = document.querySelector('#df-d43dae87-0590-4b67-a4bb-2a0139beee4c');\n",
              "          const dataTable =\n",
              "            await google.colab.kernel.invokeFunction('convertToInteractive',\n",
              "                                                     [key], {});\n",
              "          if (!dataTable) return;\n",
              "\n",
              "          const docLinkHtml = 'Like what you see? Visit the ' +\n",
              "            '<a target=\"_blank\" href=https://colab.research.google.com/notebooks/data_table.ipynb>data table notebook</a>'\n",
              "            + ' to learn more about interactive tables.';\n",
              "          element.innerHTML = '';\n",
              "          dataTable['output_type'] = 'display_data';\n",
              "          await google.colab.output.renderOutput(dataTable, element);\n",
              "          const docLink = document.createElement('div');\n",
              "          docLink.innerHTML = docLinkHtml;\n",
              "          element.appendChild(docLink);\n",
              "        }\n",
              "      </script>\n",
              "    </div>\n",
              "  </div>\n",
              "  "
            ]
          },
          "metadata": {},
          "execution_count": 16
        }
      ]
    },
    {
      "cell_type": "markdown",
      "source": [
        "# Exploratary Data Analysis"
      ],
      "metadata": {
        "id": "x2lY1de1-MzW"
      }
    },
    {
      "cell_type": "code",
      "source": [
        "import matplotlib.pyplot as plt\n",
        "import seaborn as sns\n",
        "import plotly.express as px"
      ],
      "metadata": {
        "id": "EGgcnPN5-Rz9"
      },
      "execution_count": 17,
      "outputs": []
    },
    {
      "cell_type": "code",
      "source": [
        "sns.distplot(train_data[\"oxide1\"])\n",
        "plt.show()"
      ],
      "metadata": {
        "colab": {
          "base_uri": "https://localhost:8080/",
          "height": 368
        },
        "id": "SV0Wgzoi-aQ9",
        "outputId": "6c4f31f7-7fad-4cce-f4d1-6d2b3c48b6e7"
      },
      "execution_count": 20,
      "outputs": [
        {
          "output_type": "stream",
          "name": "stderr",
          "text": [
            "/usr/local/lib/python3.7/dist-packages/seaborn/distributions.py:2619: FutureWarning:\n",
            "\n",
            "`distplot` is a deprecated function and will be removed in a future version. Please adapt your code to use either `displot` (a figure-level function with similar flexibility) or `histplot` (an axes-level function for histograms).\n",
            "\n"
          ]
        },
        {
          "output_type": "display_data",
          "data": {
            "text/plain": [
              "<Figure size 432x288 with 1 Axes>"
            ],
            "image/png": "[encoded data removed]"
          },
          "metadata": {
            "needs_background": "light"
          }
        }
      ]
    },
    {
      "cell_type": "code",
      "source": [
        "sns.distplot(train_data[\"oxide2\"])\n",
        "plt.show()"
      ],
      "metadata": {
        "colab": {
          "base_uri": "https://localhost:8080/",
          "height": 368
        },
        "id": "QYXcvO3B-ods",
        "outputId": "2866e6b2-61cd-4065-f8b1-b5bd743f59fd"
      },
      "execution_count": 21,
      "outputs": [
        {
          "output_type": "stream",
          "name": "stderr",
          "text": [
            "/usr/local/lib/python3.7/dist-packages/seaborn/distributions.py:2619: FutureWarning:\n",
            "\n",
            "`distplot` is a deprecated function and will be removed in a future version. Please adapt your code to use either `displot` (a figure-level function with similar flexibility) or `histplot` (an axes-level function for histograms).\n",
            "\n"
          ]
        },
        {
          "output_type": "display_data",
          "data": {
            "text/plain": [
              "<Figure size 432x288 with 1 Axes>"
            ],
            "image/png": "[encoded data removed]"
          },
          "metadata": {
            "needs_background": "light"
          }
        }
      ]
    },
    {
      "cell_type": "code",
      "source": [
        "sns.distplot(train_data[\"oxide3\"])\n",
        "plt.show()"
      ],
      "metadata": {
        "colab": {
          "base_uri": "https://localhost:8080/",
          "height": 368
        },
        "id": "N_r85UFL-r79",
        "outputId": "653afcf6-b8a7-48f8-b48c-1b0296c85200"
      },
      "execution_count": 22,
      "outputs": [
        {
          "output_type": "stream",
          "name": "stderr",
          "text": [
            "/usr/local/lib/python3.7/dist-packages/seaborn/distributions.py:2619: FutureWarning:\n",
            "\n",
            "`distplot` is a deprecated function and will be removed in a future version. Please adapt your code to use either `displot` (a figure-level function with similar flexibility) or `histplot` (an axes-level function for histograms).\n",
            "\n"
          ]
        },
        {
          "output_type": "display_data",
          "data": {
            "text/plain": [
              "<Figure size 432x288 with 1 Axes>"
            ],
            "image/png": "[encoded data removed]"
          },
          "metadata": {
            "needs_background": "light"
          }
        }
      ]
    },
    {
      "cell_type": "code",
      "source": [
        "sns.distplot(train_data[\"oxide4\"])\n",
        "plt.show()"
      ],
      "metadata": {
        "colab": {
          "base_uri": "https://localhost:8080/",
          "height": 368
        },
        "id": "FvWQ2sJc-vWk",
        "outputId": "23deef07-dfec-43b8-97cc-a1b7d544b15a"
      },
      "execution_count": 25,
      "outputs": [
        {
          "output_type": "stream",
          "name": "stderr",
          "text": [
            "/usr/local/lib/python3.7/dist-packages/seaborn/distributions.py:2619: FutureWarning:\n",
            "\n",
            "`distplot` is a deprecated function and will be removed in a future version. Please adapt your code to use either `displot` (a figure-level function with similar flexibility) or `histplot` (an axes-level function for histograms).\n",
            "\n"
          ]
        },
        {
          "output_type": "display_data",
          "data": {
            "text/plain": [
              "<Figure size 432x288 with 1 Axes>"
            ],
            "image/png": "[encoded data removed]"
          },
          "metadata": {
            "needs_background": "light"
          }
        }
      ]
    },
    {
      "cell_type": "code",
      "source": [
        "sns.distplot(train_data[\"oxide5\"])\n",
        "plt.show()"
      ],
      "metadata": {
        "colab": {
          "base_uri": "https://localhost:8080/",
          "height": 368
        },
        "id": "Pw2A-oke-7ed",
        "outputId": "fd200f16-cad7-4d47-84b8-0c4b0be1dbed"
      },
      "execution_count": 26,
      "outputs": [
        {
          "output_type": "stream",
          "name": "stderr",
          "text": [
            "/usr/local/lib/python3.7/dist-packages/seaborn/distributions.py:2619: FutureWarning:\n",
            "\n",
            "`distplot` is a deprecated function and will be removed in a future version. Please adapt your code to use either `displot` (a figure-level function with similar flexibility) or `histplot` (an axes-level function for histograms).\n",
            "\n"
          ]
        },
        {
          "output_type": "display_data",
          "data": {
            "text/plain": [
              "<Figure size 432x288 with 1 Axes>"
            ],
            "image/png": "[encoded data removed]"
          },
          "metadata": {
            "needs_background": "light"
          }
        }
      ]
    },
    {
      "cell_type": "code",
      "source": [
        "sns.distplot(train_data[\"oxide6\"])\n",
        "plt.show()"
      ],
      "metadata": {
        "colab": {
          "base_uri": "https://localhost:8080/",
          "height": 368
        },
        "id": "05e06Zk6-_jd",
        "outputId": "13e9f239-5485-40bc-b8eb-842252bf64e0"
      },
      "execution_count": 27,
      "outputs": [
        {
          "output_type": "stream",
          "name": "stderr",
          "text": [
            "/usr/local/lib/python3.7/dist-packages/seaborn/distributions.py:2619: FutureWarning:\n",
            "\n",
            "`distplot` is a deprecated function and will be removed in a future version. Please adapt your code to use either `displot` (a figure-level function with similar flexibility) or `histplot` (an axes-level function for histograms).\n",
            "\n"
          ]
        },
        {
          "output_type": "display_data",
          "data": {
            "text/plain": [
              "<Figure size 432x288 with 1 Axes>"
            ],
            "image/png": "[encoded data removed]"
          },
          "metadata": {
            "needs_background": "light"
          }
        }
      ]
    },
    {
      "cell_type": "code",
      "source": [
        "sns.distplot(train_data[\"oxide7\"])\n",
        "plt.show()"
      ],
      "metadata": {
        "colab": {
          "base_uri": "https://localhost:8080/",
          "height": 368
        },
        "id": "s9rO4XHh_Ca1",
        "outputId": "ab3d661c-0dfa-4735-cde0-4134983d6f70"
      },
      "execution_count": 28,
      "outputs": [
        {
          "output_type": "stream",
          "name": "stderr",
          "text": [
            "/usr/local/lib/python3.7/dist-packages/seaborn/distributions.py:2619: FutureWarning:\n",
            "\n",
            "`distplot` is a deprecated function and will be removed in a future version. Please adapt your code to use either `displot` (a figure-level function with similar flexibility) or `histplot` (an axes-level function for histograms).\n",
            "\n"
          ]
        },
        {
          "output_type": "display_data",
          "data": {
            "text/plain": [
              "<Figure size 432x288 with 1 Axes>"
            ],
            "image/png": "[encoded data removed]"
          },
          "metadata": {
            "needs_background": "light"
          }
        }
      ]
    },
    {
      "cell_type": "code",
      "source": [
        "sns.distplot(train_data[\"oxide8\"])\n",
        "plt.show()"
      ],
      "metadata": {
        "colab": {
          "base_uri": "https://localhost:8080/",
          "height": 368
        },
        "id": "rc3FbPEL_GlF",
        "outputId": "159dddcf-f3aa-4b77-b47a-1667bbff8fb0"
      },
      "execution_count": 29,
      "outputs": [
        {
          "output_type": "stream",
          "name": "stderr",
          "text": [
            "/usr/local/lib/python3.7/dist-packages/seaborn/distributions.py:2619: FutureWarning:\n",
            "\n",
            "`distplot` is a deprecated function and will be removed in a future version. Please adapt your code to use either `displot` (a figure-level function with similar flexibility) or `histplot` (an axes-level function for histograms).\n",
            "\n"
          ]
        },
        {
          "output_type": "display_data",
          "data": {
            "text/plain": [
              "<Figure size 432x288 with 1 Axes>"
            ],
            "image/png": "[encoded data removed]"
          },
          "metadata": {
            "needs_background": "light"
          }
        }
      ]
    },
    {
      "cell_type": "code",
      "source": [
        "sns.distplot(train_data[\"oxide9\"])\n",
        "plt.show()"
      ],
      "metadata": {
        "colab": {
          "base_uri": "https://localhost:8080/",
          "height": 371
        },
        "id": "z90fxG25_Jqs",
        "outputId": "9f9078f3-0330-4e9e-eb01-3363f1a257ce"
      },
      "execution_count": 32,
      "outputs": [
        {
          "output_type": "stream",
          "name": "stderr",
          "text": [
            "/usr/local/lib/python3.7/dist-packages/seaborn/distributions.py:2619: FutureWarning:\n",
            "\n",
            "`distplot` is a deprecated function and will be removed in a future version. Please adapt your code to use either `displot` (a figure-level function with similar flexibility) or `histplot` (an axes-level function for histograms).\n",
            "\n"
          ]
        },
        {
          "output_type": "display_data",
          "data": {
            "text/plain": [
              "<Figure size 432x288 with 1 Axes>"
            ],
            "image/png": "[encoded data removed]"
          },
          "metadata": {
            "needs_background": "light"
          }
        }
      ]
    },
    {
      "cell_type": "code",
      "source": [
        "sns.distplot(train_data[\"oxide10\"])\n",
        "plt.show()"
      ],
      "metadata": {
        "colab": {
          "base_uri": "https://localhost:8080/",
          "height": 368
        },
        "id": "vwmvsHf3_RAW",
        "outputId": "211e022d-4f2f-49e0-e952-1acead8bca53"
      },
      "execution_count": 33,
      "outputs": [
        {
          "output_type": "stream",
          "name": "stderr",
          "text": [
            "/usr/local/lib/python3.7/dist-packages/seaborn/distributions.py:2619: FutureWarning:\n",
            "\n",
            "`distplot` is a deprecated function and will be removed in a future version. Please adapt your code to use either `displot` (a figure-level function with similar flexibility) or `histplot` (an axes-level function for histograms).\n",
            "\n"
          ]
        },
        {
          "output_type": "display_data",
          "data": {
            "text/plain": [
              "<Figure size 432x288 with 1 Axes>"
            ],
            "image/png": "[encoded data removed]"
          },
          "metadata": {
            "needs_background": "light"
          }
        }
      ]
    },
    {
      "cell_type": "code",
      "source": [
        "sns.distplot(train_data[\"oxide11\"])\n",
        "plt.show()"
      ],
      "metadata": {
        "colab": {
          "base_uri": "https://localhost:8080/",
          "height": 368
        },
        "id": "Efnx6jQA_TV1",
        "outputId": "d9698211-6273-43f5-f3f6-308c3d1bbb10"
      },
      "execution_count": 34,
      "outputs": [
        {
          "output_type": "stream",
          "name": "stderr",
          "text": [
            "/usr/local/lib/python3.7/dist-packages/seaborn/distributions.py:2619: FutureWarning:\n",
            "\n",
            "`distplot` is a deprecated function and will be removed in a future version. Please adapt your code to use either `displot` (a figure-level function with similar flexibility) or `histplot` (an axes-level function for histograms).\n",
            "\n"
          ]
        },
        {
          "output_type": "display_data",
          "data": {
            "text/plain": [
              "<Figure size 432x288 with 1 Axes>"
            ],
            "image/png": "[encoded data removed]"
          },
          "metadata": {
            "needs_background": "light"
          }
        }
      ]
    },
    {
      "cell_type": "markdown",
      "source": [
        "# KNN Euclidean Distance"
      ],
      "metadata": {
        "id": "iMprF6OaCJDt"
      }
    },
    {
      "cell_type": "code",
      "source": [
        "from scipy.sparse import csr_matrix\n",
        "from sklearn.neighbors import KNeighborsClassifier"
      ],
      "metadata": {
        "id": "6rHKKovQ_dNI"
      },
      "execution_count": 38,
      "outputs": []
    },
    {
      "cell_type": "code",
      "source": [
        "X_train=train_data.drop(columns=[\"oxide11\"])\n",
        "y_train=train_data[\"oxide11\"]\n",
        "X_test=test_data.drop(columns=[\"oxide11\"])\n",
        "y_test=test_data[\"oxide11\"]"
      ],
      "metadata": {
        "id": "UnERH8-CBgbU"
      },
      "execution_count": 41,
      "outputs": []
    },
    {
      "cell_type": "code",
      "source": [
        "model = KNeighborsClassifier(n_neighbors = 4).fit(X_train,y_train)\n",
        "model"
      ],
      "metadata": {
        "colab": {
          "base_uri": "https://localhost:8080/"
        },
        "id": "uTVsptiR_kIu",
        "outputId": "dec6bbf0-f814-4dda-c3b6-cf5eda13deb9"
      },
      "execution_count": 42,
      "outputs": [
        {
          "output_type": "execute_result",
          "data": {
            "text/plain": [
              "KNeighborsClassifier(n_neighbors=4)"
            ]
          },
          "metadata": {},
          "execution_count": 42
        }
      ]
    },
    {
      "cell_type": "code",
      "source": [
        "yhat=model.predict(X_test)\n",
        "yhat"
      ],
      "metadata": {
        "colab": {
          "base_uri": "https://localhost:8080/"
        },
        "id": "MFgA6JfmCDHq",
        "outputId": "7bf00e4c-00f2-401f-e05a-eda8cdae7c0c"
      },
      "execution_count": 43,
      "outputs": [
        {
          "output_type": "execute_result",
          "data": {
            "text/plain": [
              "array([1, 1, 2, 2, 2, 3, 3, 3, 3, 5, 6, 6, 6, 6, 6, 7, 7, 7])"
            ]
          },
          "metadata": {},
          "execution_count": 43
        }
      ]
    },
    {
      "cell_type": "code",
      "source": [
        "from sklearn import metrics\n",
        "print(\"Train set Accuracy: \", metrics.accuracy_score(y_train, model.predict(X_train)))\n",
        "print(\"Test set Accuracy: \", metrics.accuracy_score(y_test, yhat))"
      ],
      "metadata": {
        "colab": {
          "base_uri": "https://localhost:8080/"
        },
        "id": "D7PnMw9_CVR4",
        "outputId": "7e276c47-c3c5-4adf-aa8a-f940d1274be0"
      },
      "execution_count": 44,
      "outputs": [
        {
          "output_type": "stream",
          "name": "stdout",
          "text": [
            "Train set Accuracy:  0.9948979591836735\n",
            "Test set Accuracy:  0.7777777777777778\n"
          ]
        }
      ]
    },
    {
      "cell_type": "code",
      "source": [
        "k = 6\n",
        "neigh6 = KNeighborsClassifier(n_neighbors = k).fit(X_train,y_train)\n",
        "yhat6 = neigh6.predict(X_test)\n",
        "print(\"Train set Accuracy: \", metrics.accuracy_score(y_train, neigh6.predict(X_train)))"
      ],
      "metadata": {
        "colab": {
          "base_uri": "https://localhost:8080/"
        },
        "id": "Lg2FIbVeCXO0",
        "outputId": "c9950472-2117-49cb-eb23-b1c353577b01"
      },
      "execution_count": 45,
      "outputs": [
        {
          "output_type": "stream",
          "name": "stdout",
          "text": [
            "Train set Accuracy:  0.9948979591836735\n"
          ]
        }
      ]
    },
    {
      "cell_type": "code",
      "source": [
        "print(\"Test set Accuracy: \", metrics.accuracy_score(y_test, yhat6))"
      ],
      "metadata": {
        "colab": {
          "base_uri": "https://localhost:8080/"
        },
        "id": "uYOwJaQFCaSR",
        "outputId": "fad5aa17-9ae9-4b40-f647-f04e94ce096f"
      },
      "execution_count": 46,
      "outputs": [
        {
          "output_type": "stream",
          "name": "stdout",
          "text": [
            "Test set Accuracy:  0.7777777777777778\n"
          ]
        }
      ]
    },
    {
      "cell_type": "code",
      "source": [
        "K = 10\n",
        "mean_acc = np.zeros((K-1))\n",
        "std_acc = np.zeros((K-1))\n",
        "ConfustionMx = [];\n",
        "for n in range(1,K):\n",
        "  \n",
        "   #Train Model and Predict \n",
        "   neigh = KNeighborsClassifier(n_neighbors = n).fit(X_train,y_train)\n",
        "   yhat=neigh.predict(X_test)\n",
        "   mean_acc[n-1] = metrics.accuracy_score(y_test, yhat)\n",
        " \n",
        "  \n",
        "   std_acc[n-1]=np.std(yhat==y_test)/np.sqrt(yhat.shape[0])\n",
        " \n",
        "mean_acc"
      ],
      "metadata": {
        "colab": {
          "base_uri": "https://localhost:8080/"
        },
        "id": "CMtKntH9CdVT",
        "outputId": "8102bea6-80d7-410e-859c-ea5e00f3d62f"
      },
      "execution_count": 47,
      "outputs": [
        {
          "output_type": "execute_result",
          "data": {
            "text/plain": [
              "array([0.77777778, 0.83333333, 0.77777778, 0.77777778, 0.66666667,\n",
              "       0.77777778, 0.66666667, 0.77777778, 0.61111111])"
            ]
          },
          "metadata": {},
          "execution_count": 47
        }
      ]
    },
    {
      "cell_type": "code",
      "source": [
        "import matplotlib.pyplot as plt\n",
        "plt.plot(range(1,K),mean_acc,'g')\n",
        "plt.fill_between(range(1,K),mean_acc - 1 * std_acc,mean_acc + 1 * std_acc, alpha=0.10)\n",
        "plt.legend(('Accuracy ', '+/- 3xstd'))\n",
        "plt.ylabel('Accuracy ')\n",
        "plt.xlabel('Number of Nabors (K)')\n",
        "plt.tight_layout()\n",
        "plt.show()"
      ],
      "metadata": {
        "colab": {
          "base_uri": "https://localhost:8080/",
          "height": 297
        },
        "id": "NjTyvsddCj27",
        "outputId": "476b625f-4715-4e20-d241-eede34ea1f6a"
      },
      "execution_count": 48,
      "outputs": [
        {
          "output_type": "display_data",
          "data": {
            "text/plain": [
              "<Figure size 432x288 with 1 Axes>"
            ],
            "image/png": "[encoded data removed]"
          },
          "metadata": {
            "needs_background": "light"
          }
        }
      ]
    },
    {
      "cell_type": "code",
      "source": [
        "print( \"The best accuracy was with\", mean_acc.max(), \"with k=\", mean_acc.argmax()+1)"
      ],
      "metadata": {
        "colab": {
          "base_uri": "https://localhost:8080/"
        },
        "id": "VVSlzlpxCn2s",
        "outputId": "355604f3-1218-491d-fd7d-42274374ce29"
      },
      "execution_count": 49,
      "outputs": [
        {
          "output_type": "stream",
          "name": "stdout",
          "text": [
            "The best accuracy was with 0.8333333333333334 with k= 2\n"
          ]
        }
      ]
    },
    {
      "cell_type": "markdown",
      "source": [
        "The best score calculated with this data is 83.33% for Euclidean distance"
      ],
      "metadata": {
        "id": "vTVzeu4iC7-Z"
      }
    },
    {
      "cell_type": "markdown",
      "source": [
        "# KNN Manhattan Distance"
      ],
      "metadata": {
        "id": "QPGzgdwPCybC"
      }
    },
    {
      "cell_type": "code",
      "source": [
        "X_train=train_data.drop(columns=[\"oxide11\"])\n",
        "y_train=train_data[\"oxide11\"]\n",
        "X_test=test_data.drop(columns=[\"oxide11\"])\n",
        "y_test=test_data[\"oxide11\"]"
      ],
      "metadata": {
        "id": "SlUZt79NCqjE"
      },
      "execution_count": 50,
      "outputs": []
    },
    {
      "cell_type": "code",
      "source": [
        "from scipy.sparse import csr_matrix\n",
        "from sklearn.neighbors import NearestNeighbors"
      ],
      "metadata": {
        "id": "aXaDwy0sC7PJ"
      },
      "execution_count": 52,
      "outputs": []
    },
    {
      "cell_type": "code",
      "source": [
        "csr_data = csr_matrix(train_data.values)"
      ],
      "metadata": {
        "id": "ox3VUeyjDMDj"
      },
      "execution_count": 57,
      "outputs": []
    },
    {
      "cell_type": "code",
      "source": [
        "knn = NearestNeighbors(metric='cosine', algorithm='brute', n_neighbors=20, n_jobs=-1)"
      ],
      "metadata": {
        "id": "oR62tAVSDoVh"
      },
      "execution_count": 58,
      "outputs": []
    },
    {
      "cell_type": "code",
      "source": [
        "knn.fit(csr_data)"
      ],
      "metadata": {
        "colab": {
          "base_uri": "https://localhost:8080/"
        },
        "id": "t-bwI7FqDzQR",
        "outputId": "9fc5f218-e5a5-4b32-feee-350c13334dd0"
      },
      "execution_count": 59,
      "outputs": [
        {
          "output_type": "execute_result",
          "data": {
            "text/plain": [
              "NearestNeighbors(algorithm='brute', metric='cosine', n_jobs=-1, n_neighbors=20)"
            ]
          },
          "metadata": {},
          "execution_count": 59
        }
      ]
    },
    {
      "cell_type": "code",
      "source": [
        "sample = np.array([[0,0,3,0,0],[4,0,0,0,2],[0,0,0,0,1]])\n",
        "sparsity = 1.0 - ( np.count_nonzero(sample) / float(sample.size) )\n",
        "print(sparsity)"
      ],
      "metadata": {
        "colab": {
          "base_uri": "https://localhost:8080/"
        },
        "id": "hvWv13hRFyu_",
        "outputId": "b3f38ef2-ddd4-4085-9938-5602339be516"
      },
      "execution_count": 67,
      "outputs": [
        {
          "output_type": "stream",
          "name": "stdout",
          "text": [
            "0.7333333333333334\n"
          ]
        }
      ]
    },
    {
      "cell_type": "markdown",
      "source": [
        "The accuracy score for the manhattan distance with the data is 73.33%"
      ],
      "metadata": {
        "id": "20ZNB1AuF77p"
      }
    }
  ]
}